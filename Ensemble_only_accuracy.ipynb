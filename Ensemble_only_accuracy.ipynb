{
 "cells": [
  {
   "cell_type": "code",
   "execution_count": 25,
   "metadata": {},
   "outputs": [],
   "source": [
    "import os\n",
    "import glob\n",
    "import sys\n",
    "from pydub import AudioSegment\n",
    "from pydub.playback import play\n",
    "\n",
    "# roc curve and auc\n",
    "from sklearn.metrics import roc_curve\n",
    "from sklearn.metrics import roc_auc_score\n",
    "\n",
    "# precision-recall curve and f1\n",
    "from sklearn.metrics import precision_recall_curve\n",
    "from sklearn.metrics import f1_score\n",
    "from sklearn.metrics import auc\n",
    "from sklearn.metrics import accuracy_score\n",
    "from sklearn.metrics import confusion_matrix\n",
    "\n",
    "# Matplotlib\n",
    "from matplotlib import pyplot as plt\n",
    "\n",
    "# Numpy\n",
    "import numpy as np\n",
    "from numpy.linalg import norm\n",
    "import pandas as pd\n",
    "\n",
    "# Voice\n",
    "import librosa\n",
    "import librosa.display\n",
    "from dtw import dtw"
   ]
  },
  {
   "cell_type": "markdown",
   "metadata": {},
   "source": [
    "# Converting Data (.wav)"
   ]
  },
  {
   "cell_type": "code",
   "execution_count": 2,
   "metadata": {},
   "outputs": [],
   "source": [
    "data_path = ['./voice_test_data_independent/']  # Path where the voice/video are located\n",
    "data_path_save = ['./voice_test_data_independent_wav/']\n",
    "extension_list = ('*.mpeg', '*.mp4','*.ogg')"
   ]
  },
  {
   "cell_type": "code",
   "execution_count": 3,
   "metadata": {},
   "outputs": [],
   "source": [
    "# Convert data from '.mpeg', '.mp4','.ogg' to '.wav'\n",
    "voice_dir = []\n",
    "for path in data_path:\n",
    "    for extension in extension_list:\n",
    "        _list = sorted(glob.glob(path + extension))\n",
    "        voice_dir += _list\n",
    "\n",
    "for i in range(len(voice_dir)):\n",
    "    wav_filename = data_path_save[0] + os.path.basename(voice_dir[i]).split('.')[0] + '.wav'\n",
    "    AudioSegment.from_file(voice_dir[i]).export(wav_filename, format='wav')"
   ]
  },
  {
   "cell_type": "code",
   "execution_count": 4,
   "metadata": {},
   "outputs": [],
   "source": [
    "sound = AudioSegment.from_file(wav_filename, format=\"wav\")\n",
    "play(sound)"
   ]
  },
  {
   "cell_type": "code",
   "execution_count": 6,
   "metadata": {},
   "outputs": [
    {
     "data": {
      "text/plain": [
       "['./voice_test_data_independent_wav/voice_001_001_001.wav',\n",
       " './voice_test_data_independent_wav/voice_001_002_001.wav',\n",
       " './voice_test_data_independent_wav/voice_002_001_001.wav',\n",
       " './voice_test_data_independent_wav/voice_002_002_001.wav',\n",
       " './voice_test_data_independent_wav/voice_003_001_001.wav',\n",
       " './voice_test_data_independent_wav/voice_003_002_001.wav',\n",
       " './voice_test_data_independent_wav/voice_004_001_001.wav',\n",
       " './voice_test_data_independent_wav/voice_004_002_001.wav',\n",
       " './voice_test_data_independent_wav/voice_005_001_001.wav',\n",
       " './voice_test_data_independent_wav/voice_005_002_001.wav',\n",
       " './voice_test_data_independent_wav/voice_006_001_001.wav',\n",
       " './voice_test_data_independent_wav/voice_006_002_001.wav',\n",
       " './voice_test_data_independent_wav/voice_007_001_001.wav',\n",
       " './voice_test_data_independent_wav/voice_007_002_001.wav',\n",
       " './voice_test_data_independent_wav/voice_008_001_001.wav',\n",
       " './voice_test_data_independent_wav/voice_008_002_001.wav']"
      ]
     },
     "execution_count": 6,
     "metadata": {},
     "output_type": "execute_result"
    }
   ],
   "source": [
    "wave_list =sorted(glob.glob(data_path_save[0] + '*.wav'))\n",
    "wave_list"
   ]
  },
  {
   "cell_type": "markdown",
   "metadata": {},
   "source": [
    "### ROC function"
   ]
  },
  {
   "cell_type": "code",
   "execution_count": 52,
   "metadata": {},
   "outputs": [],
   "source": [
    "def calculate_results(predictions, labels):\n",
    "    \n",
    "    treshold_max = np.max(predictions)\n",
    "    treshold_min = np.min(predictions)\n",
    "    P = np.sum(labels == 1)\n",
    "    N = np.sum(labels == 0)\n",
    "    step = (treshold_max - treshold_min)/100\n",
    "    TPR_full = []\n",
    "    FPR_full = []\n",
    "    ROC_ACC_full = []\n",
    "    threshold_full = []\n",
    "    #print('*****************************************************************************')\n",
    "    for treshold in np.arange(treshold_min, treshold_max + step, step):\n",
    "        \n",
    "        #print(f'Treshold = {treshold:.4f}')\n",
    "        idx1 = predictions <= treshold\n",
    "        idx2 = predictions > treshold\n",
    "\n",
    "        TP = np.sum(labels[idx1] == 1)\n",
    "        FN = P - TP             \n",
    "        TN = np.sum(labels[idx2] == 0)\n",
    "        FP = N - TN\n",
    "        #print(f'TP = {TP:.0f}, FN = {FN:.0f}, TN = {TN:.0f}, FP = {FP:.0f}')\n",
    "        \n",
    "        # roc curve\n",
    "        TPR = float(TP/P)\n",
    "        TPR_full.append(TPR)\n",
    "        TNR = float(TN/N)\n",
    "        FPR = 1-TNR\n",
    "        FPR_full.append(FPR)\n",
    "        ROC_ACC = (TP + TN)/(P + N)\n",
    "        ROC_ACC_full.append(ROC_ACC)\n",
    "        threshold_full.append(treshold)\n",
    "        #print(f'TPR = {TPR:.4f}, FPR = {FPR:.4f}, ROC_ACC = {ROC_ACC:.4f}')\n",
    "        \n",
    "    return TPR_full, FPR_full, ROC_ACC_full, threshold_full"
   ]
  },
  {
   "cell_type": "markdown",
   "metadata": {},
   "source": [
    "# Computer Vision Model (MFCC + DTW)"
   ]
  },
  {
   "cell_type": "code",
   "execution_count": 7,
   "metadata": {},
   "outputs": [
    {
     "name": "stderr",
     "output_type": "stream",
     "text": [
      "100%|██████████| 16/16 [00:07<00:00,  2.25it/s]\n"
     ]
    }
   ],
   "source": [
    "from tqdm import tqdm\n",
    "mfcc_total = []\n",
    "for i in tqdm(range(len(wave_list))):\n",
    "    y, sr = librosa.load(wave_list[i])\n",
    "    mfcc = librosa.feature.mfcc(y,sr)   #Computing MFCC values\n",
    "    mfcc_total.append(mfcc)"
   ]
  },
  {
   "cell_type": "code",
   "execution_count": 8,
   "metadata": {},
   "outputs": [
    {
     "name": "stderr",
     "output_type": "stream",
     "text": [
      "100%|██████████| 15/15 [03:09<00:00, 12.64s/it]\n"
     ]
    }
   ],
   "source": [
    "mfcc_total_labels = []\n",
    "mfcc_total_dist =  []\n",
    "for i in tqdm(range(len(wave_list)-1)):\n",
    "    \n",
    "    x = mfcc_total[i]\n",
    "    lx = int(os.path.basename(wave_list[i]).split('_')[1])\n",
    "    \n",
    "    for j in range(i+1,len(wave_list)):\n",
    "        \n",
    "        y = mfcc_total[j]\n",
    "        ly = int(os.path.basename(wave_list[j]).split('_')[1])\n",
    "        \n",
    "        dist, cost, acc_cost, path = dtw(x.T, y.T, dist=lambda x, y: norm(x - y, ord=2))\n",
    "        mfcc_total_dist.append(dist)\n",
    "        \n",
    "        if lx == ly:\n",
    "            label = int(1)\n",
    "            mfcc_total_labels.append(label)\n",
    "        else:\n",
    "            label = int(0)\n",
    "            mfcc_total_labels.append(label) "
   ]
  },
  {
   "cell_type": "code",
   "execution_count": 10,
   "metadata": {},
   "outputs": [
    {
     "name": "stdout",
     "output_type": "stream",
     "text": [
      "mfcc total dist = 120\n",
      "mfcc total labels = 120\n"
     ]
    }
   ],
   "source": [
    "print(\"mfcc total dist = \" + str(len(mfcc_total_dist)))\n",
    "print(\"mfcc total labels = \" + str(len(mfcc_total_labels)))"
   ]
  },
  {
   "cell_type": "code",
   "execution_count": 11,
   "metadata": {},
   "outputs": [],
   "source": [
    "mfcc_predictions = np.array([mfcc_total_dist])\n",
    "mfcc_labels = np.array([mfcc_total_labels])"
   ]
  },
  {
   "cell_type": "code",
   "execution_count": 83,
   "metadata": {},
   "outputs": [],
   "source": [
    "mfcc_TPR, mfcc_FPR, mfcc_accuracy, mfcc_threshold = calculate_results(mfcc_predictions, mfcc_labels)\n",
    "#mfcc_FNR = 1 - mfcc_TPR\n",
    "mfcc_FNR = [1-x for x in mfcc_TPR]"
   ]
  },
  {
   "cell_type": "code",
   "execution_count": 87,
   "metadata": {},
   "outputs": [
    {
     "data": {
      "text/html": [
       "<div>\n",
       "<style scoped>\n",
       "    .dataframe tbody tr th:only-of-type {\n",
       "        vertical-align: middle;\n",
       "    }\n",
       "\n",
       "    .dataframe tbody tr th {\n",
       "        vertical-align: top;\n",
       "    }\n",
       "\n",
       "    .dataframe thead th {\n",
       "        text-align: right;\n",
       "    }\n",
       "</style>\n",
       "<table border=\"1\" class=\"dataframe\">\n",
       "  <thead>\n",
       "    <tr style=\"text-align: right;\">\n",
       "      <th></th>\n",
       "      <th>TPR</th>\n",
       "      <th>FNR</th>\n",
       "      <th>FPR</th>\n",
       "      <th>Accuracy</th>\n",
       "      <th>Threshold</th>\n",
       "    </tr>\n",
       "  </thead>\n",
       "  <tbody>\n",
       "    <tr>\n",
       "      <th>50</th>\n",
       "      <td>0.875</td>\n",
       "      <td>0.125</td>\n",
       "      <td>0.598214</td>\n",
       "      <td>0.433333</td>\n",
       "      <td>83047.263589</td>\n",
       "    </tr>\n",
       "    <tr>\n",
       "      <th>51</th>\n",
       "      <td>0.875</td>\n",
       "      <td>0.125</td>\n",
       "      <td>0.616071</td>\n",
       "      <td>0.416667</td>\n",
       "      <td>84095.354921</td>\n",
       "    </tr>\n",
       "    <tr>\n",
       "      <th>52</th>\n",
       "      <td>0.875</td>\n",
       "      <td>0.125</td>\n",
       "      <td>0.625000</td>\n",
       "      <td>0.408333</td>\n",
       "      <td>85143.446252</td>\n",
       "    </tr>\n",
       "    <tr>\n",
       "      <th>53</th>\n",
       "      <td>0.875</td>\n",
       "      <td>0.125</td>\n",
       "      <td>0.651786</td>\n",
       "      <td>0.383333</td>\n",
       "      <td>86191.537584</td>\n",
       "    </tr>\n",
       "    <tr>\n",
       "      <th>54</th>\n",
       "      <td>0.875</td>\n",
       "      <td>0.125</td>\n",
       "      <td>0.660714</td>\n",
       "      <td>0.375000</td>\n",
       "      <td>87239.628916</td>\n",
       "    </tr>\n",
       "    <tr>\n",
       "      <th>55</th>\n",
       "      <td>0.875</td>\n",
       "      <td>0.125</td>\n",
       "      <td>0.660714</td>\n",
       "      <td>0.375000</td>\n",
       "      <td>88287.720248</td>\n",
       "    </tr>\n",
       "    <tr>\n",
       "      <th>56</th>\n",
       "      <td>0.875</td>\n",
       "      <td>0.125</td>\n",
       "      <td>0.678571</td>\n",
       "      <td>0.358333</td>\n",
       "      <td>89335.811580</td>\n",
       "    </tr>\n",
       "    <tr>\n",
       "      <th>57</th>\n",
       "      <td>1.000</td>\n",
       "      <td>0.000</td>\n",
       "      <td>0.687500</td>\n",
       "      <td>0.358333</td>\n",
       "      <td>90383.902911</td>\n",
       "    </tr>\n",
       "    <tr>\n",
       "      <th>58</th>\n",
       "      <td>1.000</td>\n",
       "      <td>0.000</td>\n",
       "      <td>0.696429</td>\n",
       "      <td>0.350000</td>\n",
       "      <td>91431.994243</td>\n",
       "    </tr>\n",
       "    <tr>\n",
       "      <th>59</th>\n",
       "      <td>1.000</td>\n",
       "      <td>0.000</td>\n",
       "      <td>0.723214</td>\n",
       "      <td>0.325000</td>\n",
       "      <td>92480.085575</td>\n",
       "    </tr>\n",
       "    <tr>\n",
       "      <th>60</th>\n",
       "      <td>1.000</td>\n",
       "      <td>0.000</td>\n",
       "      <td>0.732143</td>\n",
       "      <td>0.316667</td>\n",
       "      <td>93528.176907</td>\n",
       "    </tr>\n",
       "    <tr>\n",
       "      <th>61</th>\n",
       "      <td>1.000</td>\n",
       "      <td>0.000</td>\n",
       "      <td>0.741071</td>\n",
       "      <td>0.308333</td>\n",
       "      <td>94576.268238</td>\n",
       "    </tr>\n",
       "    <tr>\n",
       "      <th>62</th>\n",
       "      <td>1.000</td>\n",
       "      <td>0.000</td>\n",
       "      <td>0.758929</td>\n",
       "      <td>0.291667</td>\n",
       "      <td>95624.359570</td>\n",
       "    </tr>\n",
       "    <tr>\n",
       "      <th>63</th>\n",
       "      <td>1.000</td>\n",
       "      <td>0.000</td>\n",
       "      <td>0.767857</td>\n",
       "      <td>0.283333</td>\n",
       "      <td>96672.450902</td>\n",
       "    </tr>\n",
       "    <tr>\n",
       "      <th>64</th>\n",
       "      <td>1.000</td>\n",
       "      <td>0.000</td>\n",
       "      <td>0.803571</td>\n",
       "      <td>0.250000</td>\n",
       "      <td>97720.542234</td>\n",
       "    </tr>\n",
       "    <tr>\n",
       "      <th>65</th>\n",
       "      <td>1.000</td>\n",
       "      <td>0.000</td>\n",
       "      <td>0.821429</td>\n",
       "      <td>0.233333</td>\n",
       "      <td>98768.633565</td>\n",
       "    </tr>\n",
       "    <tr>\n",
       "      <th>66</th>\n",
       "      <td>1.000</td>\n",
       "      <td>0.000</td>\n",
       "      <td>0.830357</td>\n",
       "      <td>0.225000</td>\n",
       "      <td>99816.724897</td>\n",
       "    </tr>\n",
       "    <tr>\n",
       "      <th>67</th>\n",
       "      <td>1.000</td>\n",
       "      <td>0.000</td>\n",
       "      <td>0.839286</td>\n",
       "      <td>0.216667</td>\n",
       "      <td>100864.816229</td>\n",
       "    </tr>\n",
       "    <tr>\n",
       "      <th>68</th>\n",
       "      <td>1.000</td>\n",
       "      <td>0.000</td>\n",
       "      <td>0.857143</td>\n",
       "      <td>0.200000</td>\n",
       "      <td>101912.907561</td>\n",
       "    </tr>\n",
       "    <tr>\n",
       "      <th>69</th>\n",
       "      <td>1.000</td>\n",
       "      <td>0.000</td>\n",
       "      <td>0.857143</td>\n",
       "      <td>0.200000</td>\n",
       "      <td>102960.998892</td>\n",
       "    </tr>\n",
       "  </tbody>\n",
       "</table>\n",
       "</div>"
      ],
      "text/plain": [
       "      TPR    FNR       FPR  Accuracy      Threshold\n",
       "50  0.875  0.125  0.598214  0.433333   83047.263589\n",
       "51  0.875  0.125  0.616071  0.416667   84095.354921\n",
       "52  0.875  0.125  0.625000  0.408333   85143.446252\n",
       "53  0.875  0.125  0.651786  0.383333   86191.537584\n",
       "54  0.875  0.125  0.660714  0.375000   87239.628916\n",
       "55  0.875  0.125  0.660714  0.375000   88287.720248\n",
       "56  0.875  0.125  0.678571  0.358333   89335.811580\n",
       "57  1.000  0.000  0.687500  0.358333   90383.902911\n",
       "58  1.000  0.000  0.696429  0.350000   91431.994243\n",
       "59  1.000  0.000  0.723214  0.325000   92480.085575\n",
       "60  1.000  0.000  0.732143  0.316667   93528.176907\n",
       "61  1.000  0.000  0.741071  0.308333   94576.268238\n",
       "62  1.000  0.000  0.758929  0.291667   95624.359570\n",
       "63  1.000  0.000  0.767857  0.283333   96672.450902\n",
       "64  1.000  0.000  0.803571  0.250000   97720.542234\n",
       "65  1.000  0.000  0.821429  0.233333   98768.633565\n",
       "66  1.000  0.000  0.830357  0.225000   99816.724897\n",
       "67  1.000  0.000  0.839286  0.216667  100864.816229\n",
       "68  1.000  0.000  0.857143  0.200000  101912.907561\n",
       "69  1.000  0.000  0.857143  0.200000  102960.998892"
      ]
     },
     "execution_count": 87,
     "metadata": {},
     "output_type": "execute_result"
    }
   ],
   "source": [
    "results_mfcc = pd.DataFrame(list(zip(mfcc_TPR, mfcc_FNR, mfcc_FPR, mfcc_accuracy, mfcc_threshold)), \n",
    "                            columns=['TPR','FNR', 'FPR','Accuracy','Threshold'])\n",
    "results_mfcc.head(70).tail(20)"
   ]
  },
  {
   "cell_type": "code",
   "execution_count": 22,
   "metadata": {},
   "outputs": [
    {
     "name": "stdout",
     "output_type": "stream",
     "text": [
      "Accuracy = 0.9416666666666667\n"
     ]
    }
   ],
   "source": [
    "print(\"Accuracy = \" + str(np.max(mfcc_accuracy)))"
   ]
  },
  {
   "cell_type": "code",
   "execution_count": 23,
   "metadata": {},
   "outputs": [
    {
     "data": {
      "image/png": "[encoded data removed]",
      "text/plain": [
       "<Figure size 432x288 with 1 Axes>"
      ]
     },
     "metadata": {
      "needs_background": "light"
     },
     "output_type": "display_data"
    }
   ],
   "source": [
    "# plt.subplot(1, 2, 1)\n",
    "# plot the roc curve for the model\n",
    "plt.plot(mfcc_FPR, mfcc_TPR, marker='.', label='MFCC - ROC (TPR-FPR)')\n",
    "# axis labels\n",
    "plt.xlabel('False Positive Rate')\n",
    "plt.ylabel('True Positive Rate')\n",
    "plt.xlim(0, 1)\n",
    "plt.ylim(0, 1)\n",
    "plt.grid()\n",
    "# show the legend\n",
    "plt.legend()\n",
    "# save and show plot\n",
    "plt.savefig('MFCC Test Results.png')\n",
    "plt.show()"
   ]
  },
  {
   "cell_type": "code",
   "execution_count": null,
   "metadata": {},
   "outputs": [],
   "source": [
    "# #Showing multiple plots using subplot\n",
    "# plt.subplot(2, 2, 1) \n",
    "# mfcc1 = librosa.feature.mfcc(y1,sr1)   #Computing MFCC values\n",
    "# librosa.display.specshow(mfcc1)\n",
    "# plt.subplot(2, 2, 2)\n",
    "# mfcc2 = librosa.feature.mfcc(y2, sr2)\n",
    "# librosa.display.specshow(mfcc2)"
   ]
  },
  {
   "cell_type": "code",
   "execution_count": null,
   "metadata": {},
   "outputs": [],
   "source": [
    "# plt.imshow(cost.T, origin='lower', cmap=plt.get_cmap('gray'), interpolation='nearest')\n",
    "# plt.plot(path[0], path[1], 'w')   #creating plot for DTW\n",
    "# plt.xlim((-0.5, cost.shape[0]-0.5))\n",
    "# plt.ylim((-0.5, cost.shape[1]-0.5))\n",
    "# plt.show()  #To display the plots graphically"
   ]
  },
  {
   "cell_type": "markdown",
   "metadata": {},
   "source": [
    "# CNN Model (Resemblyzer)"
   ]
  },
  {
   "cell_type": "code",
   "execution_count": 57,
   "metadata": {},
   "outputs": [],
   "source": [
    "from resemblyzer import VoiceEncoder, preprocess_wav\n",
    "from pathlib import Path"
   ]
  },
  {
   "cell_type": "code",
   "execution_count": 58,
   "metadata": {},
   "outputs": [
    {
     "name": "stderr",
     "output_type": "stream",
     "text": [
      "\r",
      "  0%|          | 0/16 [00:00<?, ?it/s]"
     ]
    },
    {
     "name": "stdout",
     "output_type": "stream",
     "text": [
      "Loaded the voice encoder model on cuda in 2.30 seconds.\n"
     ]
    },
    {
     "name": "stderr",
     "output_type": "stream",
     "text": [
      "100%|██████████| 16/16 [00:06<00:00,  2.39it/s]\n"
     ]
    }
   ],
   "source": [
    "# np.set_printoptions(precision=3, suppress=True)\n",
    "encoder = VoiceEncoder()\n",
    "embed_total = []\n",
    "for i in tqdm(range(len(wave_list))):\n",
    "    fpath = Path(wave_list[i])\n",
    "    wav = preprocess_wav(fpath)\n",
    "    embed = encoder.embed_utterance(wav)\n",
    "    embed_total.append(embed)"
   ]
  },
  {
   "cell_type": "code",
   "execution_count": 59,
   "metadata": {},
   "outputs": [
    {
     "name": "stderr",
     "output_type": "stream",
     "text": [
      "100%|██████████| 15/15 [00:00<00:00, 5156.93it/s]\n"
     ]
    }
   ],
   "source": [
    "embed_total_labels = []\n",
    "embed_total_dist =  []\n",
    "f_dist = lambda x, y: norm(x - y, ord=2)\n",
    "for i in tqdm(range(len(wave_list)-1)):\n",
    "    \n",
    "    x = embed_total[i]\n",
    "    lx = int(os.path.basename(wave_list[i]).split('_')[1])\n",
    "    \n",
    "    for j in range(i+1,len(wave_list)):\n",
    "        \n",
    "        y = embed_total[j]\n",
    "        ly = int(os.path.basename(wave_list[j]).split('_')[1])\n",
    "        \n",
    "        dist = f_dist(x,y)\n",
    "        embed_total_dist.append(dist)\n",
    "        \n",
    "        if lx == ly:\n",
    "            label = int(1)\n",
    "            embed_total_labels.append(label)\n",
    "        else:\n",
    "            label = int(0)\n",
    "            embed_total_labels.append(label) "
   ]
  },
  {
   "cell_type": "code",
   "execution_count": 60,
   "metadata": {},
   "outputs": [
    {
     "name": "stdout",
     "output_type": "stream",
     "text": [
      "embed total dist = 120\n",
      "embed total labels = 120\n"
     ]
    }
   ],
   "source": [
    "print(\"embed total dist = \" + str(len(embed_total_dist)))\n",
    "print(\"embed total labels = \" + str(len(embed_total_labels)))"
   ]
  },
  {
   "cell_type": "code",
   "execution_count": 61,
   "metadata": {},
   "outputs": [],
   "source": [
    "embed_predictions = np.array([embed_total_dist])\n",
    "embed_labels = np.array([embed_total_labels])"
   ]
  },
  {
   "cell_type": "code",
   "execution_count": 79,
   "metadata": {},
   "outputs": [],
   "source": [
    "embed_TPR, embed_FPR, embed_accuracy, embed_threshold = calculate_results(embed_predictions, embed_labels)\n",
    "#embed_FNR = 1 - embed_TPR\n",
    "embed_FNR = [1-x for x in embed_TPR]"
   ]
  },
  {
   "cell_type": "code",
   "execution_count": 108,
   "metadata": {},
   "outputs": [
    {
     "data": {
      "text/html": [
       "<div>\n",
       "<style scoped>\n",
       "    .dataframe tbody tr th:only-of-type {\n",
       "        vertical-align: middle;\n",
       "    }\n",
       "\n",
       "    .dataframe tbody tr th {\n",
       "        vertical-align: top;\n",
       "    }\n",
       "\n",
       "    .dataframe thead th {\n",
       "        text-align: right;\n",
       "    }\n",
       "</style>\n",
       "<table border=\"1\" class=\"dataframe\">\n",
       "  <thead>\n",
       "    <tr style=\"text-align: right;\">\n",
       "      <th></th>\n",
       "      <th>TPR</th>\n",
       "      <th>FNR</th>\n",
       "      <th>FPR</th>\n",
       "      <th>Accuracy</th>\n",
       "      <th>Threshold</th>\n",
       "    </tr>\n",
       "  </thead>\n",
       "  <tbody>\n",
       "    <tr>\n",
       "      <th>50</th>\n",
       "      <td>0.750</td>\n",
       "      <td>0.250</td>\n",
       "      <td>0.000000</td>\n",
       "      <td>0.983333</td>\n",
       "      <td>0.660681</td>\n",
       "    </tr>\n",
       "    <tr>\n",
       "      <th>51</th>\n",
       "      <td>0.875</td>\n",
       "      <td>0.125</td>\n",
       "      <td>0.000000</td>\n",
       "      <td>0.991667</td>\n",
       "      <td>0.668836</td>\n",
       "    </tr>\n",
       "    <tr>\n",
       "      <th>52</th>\n",
       "      <td>0.875</td>\n",
       "      <td>0.125</td>\n",
       "      <td>0.000000</td>\n",
       "      <td>0.991667</td>\n",
       "      <td>0.676991</td>\n",
       "    </tr>\n",
       "    <tr>\n",
       "      <th>53</th>\n",
       "      <td>0.875</td>\n",
       "      <td>0.125</td>\n",
       "      <td>0.008929</td>\n",
       "      <td>0.983333</td>\n",
       "      <td>0.685147</td>\n",
       "    </tr>\n",
       "    <tr>\n",
       "      <th>54</th>\n",
       "      <td>0.875</td>\n",
       "      <td>0.125</td>\n",
       "      <td>0.017857</td>\n",
       "      <td>0.975000</td>\n",
       "      <td>0.693302</td>\n",
       "    </tr>\n",
       "    <tr>\n",
       "      <th>55</th>\n",
       "      <td>0.875</td>\n",
       "      <td>0.125</td>\n",
       "      <td>0.026786</td>\n",
       "      <td>0.966667</td>\n",
       "      <td>0.701458</td>\n",
       "    </tr>\n",
       "    <tr>\n",
       "      <th>56</th>\n",
       "      <td>0.875</td>\n",
       "      <td>0.125</td>\n",
       "      <td>0.035714</td>\n",
       "      <td>0.958333</td>\n",
       "      <td>0.709613</td>\n",
       "    </tr>\n",
       "    <tr>\n",
       "      <th>57</th>\n",
       "      <td>0.875</td>\n",
       "      <td>0.125</td>\n",
       "      <td>0.035714</td>\n",
       "      <td>0.958333</td>\n",
       "      <td>0.717768</td>\n",
       "    </tr>\n",
       "    <tr>\n",
       "      <th>58</th>\n",
       "      <td>0.875</td>\n",
       "      <td>0.125</td>\n",
       "      <td>0.035714</td>\n",
       "      <td>0.958333</td>\n",
       "      <td>0.725924</td>\n",
       "    </tr>\n",
       "    <tr>\n",
       "      <th>59</th>\n",
       "      <td>0.875</td>\n",
       "      <td>0.125</td>\n",
       "      <td>0.053571</td>\n",
       "      <td>0.941667</td>\n",
       "      <td>0.734079</td>\n",
       "    </tr>\n",
       "    <tr>\n",
       "      <th>60</th>\n",
       "      <td>1.000</td>\n",
       "      <td>0.000</td>\n",
       "      <td>0.053571</td>\n",
       "      <td>0.950000</td>\n",
       "      <td>0.742234</td>\n",
       "    </tr>\n",
       "    <tr>\n",
       "      <th>61</th>\n",
       "      <td>1.000</td>\n",
       "      <td>0.000</td>\n",
       "      <td>0.071429</td>\n",
       "      <td>0.933333</td>\n",
       "      <td>0.750390</td>\n",
       "    </tr>\n",
       "    <tr>\n",
       "      <th>62</th>\n",
       "      <td>1.000</td>\n",
       "      <td>0.000</td>\n",
       "      <td>0.071429</td>\n",
       "      <td>0.933333</td>\n",
       "      <td>0.758545</td>\n",
       "    </tr>\n",
       "    <tr>\n",
       "      <th>63</th>\n",
       "      <td>1.000</td>\n",
       "      <td>0.000</td>\n",
       "      <td>0.089286</td>\n",
       "      <td>0.916667</td>\n",
       "      <td>0.766700</td>\n",
       "    </tr>\n",
       "    <tr>\n",
       "      <th>64</th>\n",
       "      <td>1.000</td>\n",
       "      <td>0.000</td>\n",
       "      <td>0.107143</td>\n",
       "      <td>0.900000</td>\n",
       "      <td>0.774856</td>\n",
       "    </tr>\n",
       "    <tr>\n",
       "      <th>65</th>\n",
       "      <td>1.000</td>\n",
       "      <td>0.000</td>\n",
       "      <td>0.125000</td>\n",
       "      <td>0.883333</td>\n",
       "      <td>0.783011</td>\n",
       "    </tr>\n",
       "    <tr>\n",
       "      <th>66</th>\n",
       "      <td>1.000</td>\n",
       "      <td>0.000</td>\n",
       "      <td>0.142857</td>\n",
       "      <td>0.866667</td>\n",
       "      <td>0.791166</td>\n",
       "    </tr>\n",
       "    <tr>\n",
       "      <th>67</th>\n",
       "      <td>1.000</td>\n",
       "      <td>0.000</td>\n",
       "      <td>0.178571</td>\n",
       "      <td>0.833333</td>\n",
       "      <td>0.799322</td>\n",
       "    </tr>\n",
       "    <tr>\n",
       "      <th>68</th>\n",
       "      <td>1.000</td>\n",
       "      <td>0.000</td>\n",
       "      <td>0.214286</td>\n",
       "      <td>0.800000</td>\n",
       "      <td>0.807477</td>\n",
       "    </tr>\n",
       "    <tr>\n",
       "      <th>69</th>\n",
       "      <td>1.000</td>\n",
       "      <td>0.000</td>\n",
       "      <td>0.267857</td>\n",
       "      <td>0.750000</td>\n",
       "      <td>0.815632</td>\n",
       "    </tr>\n",
       "  </tbody>\n",
       "</table>\n",
       "</div>"
      ],
      "text/plain": [
       "      TPR    FNR       FPR  Accuracy  Threshold\n",
       "50  0.750  0.250  0.000000  0.983333   0.660681\n",
       "51  0.875  0.125  0.000000  0.991667   0.668836\n",
       "52  0.875  0.125  0.000000  0.991667   0.676991\n",
       "53  0.875  0.125  0.008929  0.983333   0.685147\n",
       "54  0.875  0.125  0.017857  0.975000   0.693302\n",
       "55  0.875  0.125  0.026786  0.966667   0.701458\n",
       "56  0.875  0.125  0.035714  0.958333   0.709613\n",
       "57  0.875  0.125  0.035714  0.958333   0.717768\n",
       "58  0.875  0.125  0.035714  0.958333   0.725924\n",
       "59  0.875  0.125  0.053571  0.941667   0.734079\n",
       "60  1.000  0.000  0.053571  0.950000   0.742234\n",
       "61  1.000  0.000  0.071429  0.933333   0.750390\n",
       "62  1.000  0.000  0.071429  0.933333   0.758545\n",
       "63  1.000  0.000  0.089286  0.916667   0.766700\n",
       "64  1.000  0.000  0.107143  0.900000   0.774856\n",
       "65  1.000  0.000  0.125000  0.883333   0.783011\n",
       "66  1.000  0.000  0.142857  0.866667   0.791166\n",
       "67  1.000  0.000  0.178571  0.833333   0.799322\n",
       "68  1.000  0.000  0.214286  0.800000   0.807477\n",
       "69  1.000  0.000  0.267857  0.750000   0.815632"
      ]
     },
     "execution_count": 108,
     "metadata": {},
     "output_type": "execute_result"
    }
   ],
   "source": [
    "results_embed = pd.DataFrame(list(zip(embed_TPR, embed_FNR, embed_FPR, embed_accuracy, embed_threshold)), \n",
    "                            columns=['TPR','FNR','FPR','Accuracy','Threshold'])\n",
    "results_embed.head(70).tail(20)"
   ]
  },
  {
   "cell_type": "code",
   "execution_count": 88,
   "metadata": {},
   "outputs": [
    {
     "name": "stdout",
     "output_type": "stream",
     "text": [
      "Resemblyzer accuracy = 0.9916666666666667\n"
     ]
    }
   ],
   "source": [
    "print(\"Resemblyzer accuracy = \" + str(np.max(embed_accuracy)))"
   ]
  },
  {
   "cell_type": "code",
   "execution_count": 89,
   "metadata": {},
   "outputs": [
    {
     "data": {
      "image/png": "[encoded data removed]",
      "text/plain": [
       "<Figure size 432x288 with 1 Axes>"
      ]
     },
     "metadata": {
      "needs_background": "light"
     },
     "output_type": "display_data"
    }
   ],
   "source": [
    "# plt.subplot(1, 2, 1)\n",
    "# plot the roc curve for the model\n",
    "plt.plot(embed_FPR, embed_TPR, marker='.', label='Resemblyzer ROC (TPR-FPR)')\n",
    "# axis labels\n",
    "plt.xlabel('False Positive Rate')\n",
    "plt.ylabel('True Positive Rate')\n",
    "plt.xlim(0, 1)\n",
    "plt.ylim(0, 1)\n",
    "plt.grid()\n",
    "# show the legend\n",
    "plt.legend()\n",
    "# save and show plot\n",
    "plt.savefig('Resemblyzer Test Results.png')\n",
    "plt.show()"
   ]
  },
  {
   "cell_type": "markdown",
   "metadata": {},
   "source": [
    "### Multi-Modal Voice Verification\n",
    "(Computer Vision + Deep Learning)"
   ]
  },
  {
   "cell_type": "code",
   "execution_count": 90,
   "metadata": {},
   "outputs": [],
   "source": [
    "def tanh_normalize(x):\n",
    "    \n",
    "    m = np.mean(x, axis=0)\n",
    "    std = np.std(x, axis=0)\n",
    "    normalized_x = 0.5 * (np.tanh(0.01 * ((x - m) / std)) + 1)\n",
    "    \n",
    "    return normalized_x"
   ]
  },
  {
   "cell_type": "code",
   "execution_count": 91,
   "metadata": {},
   "outputs": [],
   "source": [
    "embed_normalized = tanh_normalize(embed_predictions[-1])"
   ]
  },
  {
   "cell_type": "code",
   "execution_count": 92,
   "metadata": {},
   "outputs": [],
   "source": [
    "mfcc_normalized = tanh_normalize(mfcc_predictions[-1])"
   ]
  },
  {
   "cell_type": "code",
   "execution_count": 95,
   "metadata": {},
   "outputs": [
    {
     "name": "stdout",
     "output_type": "stream",
     "text": [
      "weight = 0.0 fusion accuracy = 0.9417\n",
      "weight = 0.1 fusion accuracy = 0.9583\n",
      "weight = 0.2 fusion accuracy = 0.9750\n",
      "weight = 0.3 fusion accuracy = 0.9833\n",
      "weight = 0.4 fusion accuracy = 0.9833\n",
      "weight = 0.5 fusion accuracy = 0.9917\n",
      "weight = 0.6 fusion accuracy = 0.9917\n",
      "weight = 0.7 fusion accuracy = 0.9917\n",
      "weight = 0.8 fusion accuracy = 0.9917\n",
      "weight = 0.9 fusion accuracy = 0.9917\n"
     ]
    }
   ],
   "source": [
    "# Exahustive Search\n",
    "for i in np.arange(0, 1, 0.1):\n",
    "    fusion_predictions = i*embed_normalized + (1-i)*mfcc_normalized\n",
    "    fusion_predictions = np.array([fusion_predictions])\n",
    "    fusion_labels = embed_labels\n",
    "    fusion_TPR, fusion_FPR, fusion_accuracy, fusion_threshold = calculate_results(fusion_predictions, \n",
    "                                                                                  fusion_labels)\n",
    "    print(f'weight = {i:0.1f} fusion accuracy = {np.max(fusion_accuracy):0.4f}')"
   ]
  },
  {
   "cell_type": "code",
   "execution_count": 102,
   "metadata": {},
   "outputs": [
    {
     "name": "stdout",
     "output_type": "stream",
     "text": [
      "fusion accuracy = 0.9917\n"
     ]
    }
   ],
   "source": [
    "fusion_predictions = 0.5*embed_normalized + 0.5*mfcc_normalized\n",
    "fusion_predictions = np.array([fusion_predictions])\n",
    "fusion_labels = embed_labels\n",
    "fusion_TPR, fusion_FPR, fusion_accuracy, fusion_threshold = calculate_results(fusion_predictions, \n",
    "                                                                              fusion_labels)\n",
    "print(f'fusion accuracy = {np.max(fusion_accuracy):0.4f}')"
   ]
  },
  {
   "cell_type": "markdown",
   "metadata": {},
   "source": [
    "# Scores"
   ]
  },
  {
   "cell_type": "code",
   "execution_count": 103,
   "metadata": {},
   "outputs": [
    {
     "data": {
      "application/vnd.plotly.v1+json": {
       "config": {
        "plotlyServerURL": "https://plot.ly"
       },
       "data": [
        {
         "name": "Resemblyzer",
         "type": "scatter",
         "x": [
          0,
          0,
          0,
          0,
          0,
          0,
          0,
          0,
          0,
          0,
          0,
          0,
          0,
          0,
          0,
          0,
          0,
          0,
          0,
          0,
          0,
          0,
          0,
          0,
          0,
          0,
          0,
          0,
          0,
          0,
          0,
          0,
          0,
          0,
          0,
          0,
          0,
          0,
          0,
          0,
          0,
          0,
          0,
          0,
          0,
          0,
          0,
          0,
          0,
          0,
          0,
          0,
          0,
          0.008928571428571397,
          0.017857142857142905,
          0.0267857142857143,
          0.0357142857142857,
          0.0357142857142857,
          0.0357142857142857,
          0.0535714285714286,
          0.0535714285714286,
          0.0714285714285714,
          0.0714285714285714,
          0.0892857142857143,
          0.1071428571428571,
          0.125,
          0.1428571428571429,
          0.1785714285714286,
          0.2142857142857143,
          0.2678571428571429,
          0.2857142857142857,
          0.3035714285714286,
          0.3571428571428571,
          0.4107142857142857,
          0.4553571428571429,
          0.4910714285714286,
          0.5357142857142857,
          0.5625,
          0.6160714285714286,
          0.6517857142857143,
          0.6964285714285714,
          0.7053571428571428,
          0.7232142857142857,
          0.7767857142857143,
          0.7857142857142857,
          0.7946428571428572,
          0.8125,
          0.8392857142857143,
          0.8571428571428572,
          0.8839285714285714,
          0.9017857142857143,
          0.9196428571428571,
          0.9553571428571429,
          0.9553571428571429,
          0.9732142857142857,
          0.9732142857142857,
          0.9821428571428571,
          0.9821428571428571,
          0.9821428571428571,
          0.9910714285714286,
          1
         ],
         "y": [
          0.125,
          0.125,
          0.125,
          0.125,
          0.125,
          0.125,
          0.125,
          0.125,
          0.125,
          0.125,
          0.125,
          0.125,
          0.125,
          0.125,
          0.125,
          0.125,
          0.125,
          0.125,
          0.125,
          0.125,
          0.125,
          0.125,
          0.125,
          0.125,
          0.125,
          0.125,
          0.25,
          0.25,
          0.25,
          0.25,
          0.25,
          0.375,
          0.375,
          0.625,
          0.625,
          0.75,
          0.75,
          0.75,
          0.75,
          0.75,
          0.75,
          0.75,
          0.75,
          0.75,
          0.75,
          0.75,
          0.75,
          0.75,
          0.75,
          0.75,
          0.75,
          0.875,
          0.875,
          0.875,
          0.875,
          0.875,
          0.875,
          0.875,
          0.875,
          0.875,
          1,
          1,
          1,
          1,
          1,
          1,
          1,
          1,
          1,
          1,
          1,
          1,
          1,
          1,
          1,
          1,
          1,
          1,
          1,
          1,
          1,
          1,
          1,
          1,
          1,
          1,
          1,
          1,
          1,
          1,
          1,
          1,
          1,
          1,
          1,
          1,
          1,
          1,
          1,
          1,
          1
         ]
        },
        {
         "name": "MFCC",
         "type": "scatter",
         "x": [
          0,
          0,
          0,
          0,
          0,
          0,
          0.008928571428571397,
          0.008928571428571397,
          0.008928571428571397,
          0.008928571428571397,
          0.008928571428571397,
          0.008928571428571397,
          0.008928571428571397,
          0.008928571428571397,
          0.0267857142857143,
          0.0267857142857143,
          0.0267857142857143,
          0.044642857142857095,
          0.0803571428571429,
          0.0892857142857143,
          0.0892857142857143,
          0.1160714285714286,
          0.1339285714285714,
          0.1607142857142857,
          0.1607142857142857,
          0.1696428571428571,
          0.1696428571428571,
          0.1696428571428571,
          0.1875,
          0.2232142857142857,
          0.2321428571428571,
          0.25,
          0.2589285714285714,
          0.2767857142857143,
          0.2767857142857143,
          0.2946428571428571,
          0.2946428571428571,
          0.3125,
          0.3125,
          0.3303571428571429,
          0.3571428571428571,
          0.3928571428571429,
          0.4107142857142857,
          0.4464285714285714,
          0.4732142857142857,
          0.4821428571428571,
          0.4821428571428571,
          0.5267857142857143,
          0.5267857142857143,
          0.5803571428571428,
          0.5982142857142857,
          0.6160714285714286,
          0.625,
          0.6517857142857143,
          0.6607142857142857,
          0.6607142857142857,
          0.6785714285714286,
          0.6875,
          0.6964285714285714,
          0.7232142857142857,
          0.7321428571428572,
          0.7410714285714286,
          0.7589285714285714,
          0.7678571428571428,
          0.8035714285714286,
          0.8214285714285714,
          0.8303571428571428,
          0.8392857142857143,
          0.8571428571428572,
          0.8571428571428572,
          0.8571428571428572,
          0.8571428571428572,
          0.8839285714285714,
          0.8928571428571429,
          0.8928571428571429,
          0.9107142857142857,
          0.9196428571428571,
          0.9196428571428571,
          0.9196428571428571,
          0.9196428571428571,
          0.9196428571428571,
          0.9285714285714286,
          0.9285714285714286,
          0.9285714285714286,
          0.9375,
          0.9375,
          0.9375,
          0.9375,
          0.9464285714285714,
          0.9553571428571429,
          0.9553571428571429,
          0.9642857142857143,
          0.9732142857142857,
          0.9732142857142857,
          0.9732142857142857,
          0.9821428571428571,
          0.9821428571428571,
          0.9821428571428571,
          0.9910714285714286,
          0.9910714285714286,
          0.9910714285714286
         ],
         "y": [
          0.125,
          0.125,
          0.125,
          0.125,
          0.125,
          0.125,
          0.125,
          0.125,
          0.125,
          0.125,
          0.125,
          0.125,
          0.125,
          0.25,
          0.375,
          0.375,
          0.375,
          0.375,
          0.5,
          0.5,
          0.5,
          0.5,
          0.5,
          0.5,
          0.5,
          0.5,
          0.625,
          0.625,
          0.625,
          0.625,
          0.625,
          0.75,
          0.75,
          0.75,
          0.75,
          0.75,
          0.75,
          0.75,
          0.75,
          0.75,
          0.75,
          0.75,
          0.75,
          0.75,
          0.75,
          0.75,
          0.75,
          0.75,
          0.75,
          0.75,
          0.875,
          0.875,
          0.875,
          0.875,
          0.875,
          0.875,
          0.875,
          1,
          1,
          1,
          1,
          1,
          1,
          1,
          1,
          1,
          1,
          1,
          1,
          1,
          1,
          1,
          1,
          1,
          1,
          1,
          1,
          1,
          1,
          1,
          1,
          1,
          1,
          1,
          1,
          1,
          1,
          1,
          1,
          1,
          1,
          1,
          1,
          1,
          1,
          1,
          1,
          1,
          1,
          1,
          1
         ]
        },
        {
         "name": "Fusion",
         "type": "scatter",
         "x": [
          0,
          0,
          0,
          0,
          0,
          0,
          0,
          0,
          0,
          0,
          0,
          0,
          0,
          0,
          0,
          0,
          0,
          0,
          0,
          0,
          0,
          0,
          0,
          0,
          0,
          0,
          0,
          0,
          0,
          0,
          0,
          0,
          0,
          0,
          0,
          0,
          0.008928571428571397,
          0.017857142857142905,
          0.0267857142857143,
          0.0267857142857143,
          0.0267857142857143,
          0.0357142857142857,
          0.044642857142857095,
          0.044642857142857095,
          0.0535714285714286,
          0.0625,
          0.0803571428571429,
          0.0892857142857143,
          0.1517857142857143,
          0.1517857142857143,
          0.1785714285714286,
          0.1964285714285714,
          0.2142857142857143,
          0.2410714285714286,
          0.2678571428571429,
          0.2857142857142857,
          0.3392857142857143,
          0.375,
          0.3839285714285714,
          0.3928571428571429,
          0.4285714285714286,
          0.4642857142857143,
          0.4821428571428571,
          0.5178571428571428,
          0.5357142857142857,
          0.5535714285714286,
          0.5535714285714286,
          0.5625,
          0.6160714285714286,
          0.6517857142857143,
          0.6517857142857143,
          0.6607142857142857,
          0.6785714285714286,
          0.6875,
          0.7142857142857143,
          0.7410714285714286,
          0.75,
          0.7678571428571428,
          0.8035714285714286,
          0.8125,
          0.8214285714285714,
          0.8214285714285714,
          0.8660714285714286,
          0.8928571428571429,
          0.8928571428571429,
          0.9017857142857143,
          0.9196428571428571,
          0.9375,
          0.9553571428571429,
          0.9553571428571429,
          0.9642857142857143,
          0.9732142857142857,
          0.9821428571428571,
          0.9821428571428571,
          0.9910714285714286,
          0.9910714285714286,
          0.9910714285714286,
          0.9910714285714286,
          0.9910714285714286,
          0.9910714285714286,
          1
         ],
         "y": [
          0.125,
          0.125,
          0.125,
          0.125,
          0.125,
          0.125,
          0.125,
          0.125,
          0.125,
          0.125,
          0.125,
          0.125,
          0.125,
          0.25,
          0.375,
          0.375,
          0.5,
          0.5,
          0.5,
          0.5,
          0.5,
          0.5,
          0.75,
          0.75,
          0.75,
          0.75,
          0.75,
          0.75,
          0.75,
          0.75,
          0.75,
          0.75,
          0.75,
          0.75,
          0.875,
          0.875,
          0.875,
          0.875,
          0.875,
          0.875,
          0.875,
          0.875,
          0.875,
          0.875,
          0.875,
          0.875,
          0.875,
          0.875,
          0.875,
          0.875,
          0.875,
          0.875,
          0.875,
          0.875,
          0.875,
          0.875,
          0.875,
          1,
          1,
          1,
          1,
          1,
          1,
          1,
          1,
          1,
          1,
          1,
          1,
          1,
          1,
          1,
          1,
          1,
          1,
          1,
          1,
          1,
          1,
          1,
          1,
          1,
          1,
          1,
          1,
          1,
          1,
          1,
          1,
          1,
          1,
          1,
          1,
          1,
          1,
          1,
          1,
          1,
          1,
          1,
          1
         ]
        }
       ],
       "layout": {
        "font": {
         "color": "#000000",
         "family": "Arial, monospace",
         "size": 20
        },
        "template": {
         "data": {
          "bar": [
           {
            "error_x": {
             "color": "#2a3f5f"
            },
            "error_y": {
             "color": "#2a3f5f"
            },
            "marker": {
             "line": {
              "color": "#E5ECF6",
              "width": 0.5
             }
            },
            "type": "bar"
           }
          ],
          "barpolar": [
           {
            "marker": {
             "line": {
              "color": "#E5ECF6",
              "width": 0.5
             }
            },
            "type": "barpolar"
           }
          ],
          "carpet": [
           {
            "aaxis": {
             "endlinecolor": "#2a3f5f",
             "gridcolor": "white",
             "linecolor": "white",
             "minorgridcolor": "white",
             "startlinecolor": "#2a3f5f"
            },
            "baxis": {
             "endlinecolor": "#2a3f5f",
             "gridcolor": "white",
             "linecolor": "white",
             "minorgridcolor": "white",
             "startlinecolor": "#2a3f5f"
            },
            "type": "carpet"
           }
          ],
          "choropleth": [
           {
            "colorbar": {
             "outlinewidth": 0,
             "ticks": ""
            },
            "type": "choropleth"
           }
          ],
          "contour": [
           {
            "colorbar": {
             "outlinewidth": 0,
             "ticks": ""
            },
            "colorscale": [
             [
              0,
              "#0d0887"
             ],
             [
              0.1111111111111111,
              "#46039f"
             ],
             [
              0.2222222222222222,
              "#7201a8"
             ],
             [
              0.3333333333333333,
              "#9c179e"
             ],
             [
              0.4444444444444444,
              "#bd3786"
             ],
             [
              0.5555555555555556,
              "#d8576b"
             ],
             [
              0.6666666666666666,
              "#ed7953"
             ],
             [
              0.7777777777777778,
              "#fb9f3a"
             ],
             [
              0.8888888888888888,
              "#fdca26"
             ],
             [
              1,
              "#f0f921"
             ]
            ],
            "type": "contour"
           }
          ],
          "contourcarpet": [
           {
            "colorbar": {
             "outlinewidth": 0,
             "ticks": ""
            },
            "type": "contourcarpet"
           }
          ],
          "heatmap": [
           {
            "colorbar": {
             "outlinewidth": 0,
             "ticks": ""
            },
            "colorscale": [
             [
              0,
              "#0d0887"
             ],
             [
              0.1111111111111111,
              "#46039f"
             ],
             [
              0.2222222222222222,
              "#7201a8"
             ],
             [
              0.3333333333333333,
              "#9c179e"
             ],
             [
              0.4444444444444444,
              "#bd3786"
             ],
             [
              0.5555555555555556,
              "#d8576b"
             ],
             [
              0.6666666666666666,
              "#ed7953"
             ],
             [
              0.7777777777777778,
              "#fb9f3a"
             ],
             [
              0.8888888888888888,
              "#fdca26"
             ],
             [
              1,
              "#f0f921"
             ]
            ],
            "type": "heatmap"
           }
          ],
          "heatmapgl": [
           {
            "colorbar": {
             "outlinewidth": 0,
             "ticks": ""
            },
            "colorscale": [
             [
              0,
              "#0d0887"
             ],
             [
              0.1111111111111111,
              "#46039f"
             ],
             [
              0.2222222222222222,
              "#7201a8"
             ],
             [
              0.3333333333333333,
              "#9c179e"
             ],
             [
              0.4444444444444444,
              "#bd3786"
             ],
             [
              0.5555555555555556,
              "#d8576b"
             ],
             [
              0.6666666666666666,
              "#ed7953"
             ],
             [
              0.7777777777777778,
              "#fb9f3a"
             ],
             [
              0.8888888888888888,
              "#fdca26"
             ],
             [
              1,
              "#f0f921"
             ]
            ],
            "type": "heatmapgl"
           }
          ],
          "histogram": [
           {
            "marker": {
             "colorbar": {
              "outlinewidth": 0,
              "ticks": ""
             }
            },
            "type": "histogram"
           }
          ],
          "histogram2d": [
           {
            "colorbar": {
             "outlinewidth": 0,
             "ticks": ""
            },
            "colorscale": [
             [
              0,
              "#0d0887"
             ],
             [
              0.1111111111111111,
              "#46039f"
             ],
             [
              0.2222222222222222,
              "#7201a8"
             ],
             [
              0.3333333333333333,
              "#9c179e"
             ],
             [
              0.4444444444444444,
              "#bd3786"
             ],
             [
              0.5555555555555556,
              "#d8576b"
             ],
             [
              0.6666666666666666,
              "#ed7953"
             ],
             [
              0.7777777777777778,
              "#fb9f3a"
             ],
             [
              0.8888888888888888,
              "#fdca26"
             ],
             [
              1,
              "#f0f921"
             ]
            ],
            "type": "histogram2d"
           }
          ],
          "histogram2dcontour": [
           {
            "colorbar": {
             "outlinewidth": 0,
             "ticks": ""
            },
            "colorscale": [
             [
              0,
              "#0d0887"
             ],
             [
              0.1111111111111111,
              "#46039f"
             ],
             [
              0.2222222222222222,
              "#7201a8"
             ],
             [
              0.3333333333333333,
              "#9c179e"
             ],
             [
              0.4444444444444444,
              "#bd3786"
             ],
             [
              0.5555555555555556,
              "#d8576b"
             ],
             [
              0.6666666666666666,
              "#ed7953"
             ],
             [
              0.7777777777777778,
              "#fb9f3a"
             ],
             [
              0.8888888888888888,
              "#fdca26"
             ],
             [
              1,
              "#f0f921"
             ]
            ],
            "type": "histogram2dcontour"
           }
          ],
          "mesh3d": [
           {
            "colorbar": {
             "outlinewidth": 0,
             "ticks": ""
            },
            "type": "mesh3d"
           }
          ],
          "parcoords": [
           {
            "line": {
             "colorbar": {
              "outlinewidth": 0,
              "ticks": ""
             }
            },
            "type": "parcoords"
           }
          ],
          "pie": [
           {
            "automargin": true,
            "type": "pie"
           }
          ],
          "scatter": [
           {
            "marker": {
             "colorbar": {
              "outlinewidth": 0,
              "ticks": ""
             }
            },
            "type": "scatter"
           }
          ],
          "scatter3d": [
           {
            "line": {
             "colorbar": {
              "outlinewidth": 0,
              "ticks": ""
             }
            },
            "marker": {
             "colorbar": {
              "outlinewidth": 0,
              "ticks": ""
             }
            },
            "type": "scatter3d"
           }
          ],
          "scattercarpet": [
           {
            "marker": {
             "colorbar": {
              "outlinewidth": 0,
              "ticks": ""
             }
            },
            "type": "scattercarpet"
           }
          ],
          "scattergeo": [
           {
            "marker": {
             "colorbar": {
              "outlinewidth": 0,
              "ticks": ""
             }
            },
            "type": "scattergeo"
           }
          ],
          "scattergl": [
           {
            "marker": {
             "colorbar": {
              "outlinewidth": 0,
              "ticks": ""
             }
            },
            "type": "scattergl"
           }
          ],
          "scattermapbox": [
           {
            "marker": {
             "colorbar": {
              "outlinewidth": 0,
              "ticks": ""
             }
            },
            "type": "scattermapbox"
           }
          ],
          "scatterpolar": [
           {
            "marker": {
             "colorbar": {
              "outlinewidth": 0,
              "ticks": ""
             }
            },
            "type": "scatterpolar"
           }
          ],
          "scatterpolargl": [
           {
            "marker": {
             "colorbar": {
              "outlinewidth": 0,
              "ticks": ""
             }
            },
            "type": "scatterpolargl"
           }
          ],
          "scatterternary": [
           {
            "marker": {
             "colorbar": {
              "outlinewidth": 0,
              "ticks": ""
             }
            },
            "type": "scatterternary"
           }
          ],
          "surface": [
           {
            "colorbar": {
             "outlinewidth": 0,
             "ticks": ""
            },
            "colorscale": [
             [
              0,
              "#0d0887"
             ],
             [
              0.1111111111111111,
              "#46039f"
             ],
             [
              0.2222222222222222,
              "#7201a8"
             ],
             [
              0.3333333333333333,
              "#9c179e"
             ],
             [
              0.4444444444444444,
              "#bd3786"
             ],
             [
              0.5555555555555556,
              "#d8576b"
             ],
             [
              0.6666666666666666,
              "#ed7953"
             ],
             [
              0.7777777777777778,
              "#fb9f3a"
             ],
             [
              0.8888888888888888,
              "#fdca26"
             ],
             [
              1,
              "#f0f921"
             ]
            ],
            "type": "surface"
           }
          ],
          "table": [
           {
            "cells": {
             "fill": {
              "color": "#EBF0F8"
             },
             "line": {
              "color": "white"
             }
            },
            "header": {
             "fill": {
              "color": "#C8D4E3"
             },
             "line": {
              "color": "white"
             }
            },
            "type": "table"
           }
          ]
         },
         "layout": {
          "annotationdefaults": {
           "arrowcolor": "#2a3f5f",
           "arrowhead": 0,
           "arrowwidth": 1
          },
          "coloraxis": {
           "colorbar": {
            "outlinewidth": 0,
            "ticks": ""
           }
          },
          "colorscale": {
           "diverging": [
            [
             0,
             "#8e0152"
            ],
            [
             0.1,
             "#c51b7d"
            ],
            [
             0.2,
             "#de77ae"
            ],
            [
             0.3,
             "#f1b6da"
            ],
            [
             0.4,
             "#fde0ef"
            ],
            [
             0.5,
             "#f7f7f7"
            ],
            [
             0.6,
             "#e6f5d0"
            ],
            [
             0.7,
             "#b8e186"
            ],
            [
             0.8,
             "#7fbc41"
            ],
            [
             0.9,
             "#4d9221"
            ],
            [
             1,
             "#276419"
            ]
           ],
           "sequential": [
            [
             0,
             "#0d0887"
            ],
            [
             0.1111111111111111,
             "#46039f"
            ],
            [
             0.2222222222222222,
             "#7201a8"
            ],
            [
             0.3333333333333333,
             "#9c179e"
            ],
            [
             0.4444444444444444,
             "#bd3786"
            ],
            [
             0.5555555555555556,
             "#d8576b"
            ],
            [
             0.6666666666666666,
             "#ed7953"
            ],
            [
             0.7777777777777778,
             "#fb9f3a"
            ],
            [
             0.8888888888888888,
             "#fdca26"
            ],
            [
             1,
             "#f0f921"
            ]
           ],
           "sequentialminus": [
            [
             0,
             "#0d0887"
            ],
            [
             0.1111111111111111,
             "#46039f"
            ],
            [
             0.2222222222222222,
             "#7201a8"
            ],
            [
             0.3333333333333333,
             "#9c179e"
            ],
            [
             0.4444444444444444,
             "#bd3786"
            ],
            [
             0.5555555555555556,
             "#d8576b"
            ],
            [
             0.6666666666666666,
             "#ed7953"
            ],
            [
             0.7777777777777778,
             "#fb9f3a"
            ],
            [
             0.8888888888888888,
             "#fdca26"
            ],
            [
             1,
             "#f0f921"
            ]
           ]
          },
          "colorway": [
           "#636efa",
           "#EF553B",
           "#00cc96",
           "#ab63fa",
           "#FFA15A",
           "#19d3f3",
           "#FF6692",
           "#B6E880",
           "#FF97FF",
           "#FECB52"
          ],
          "font": {
           "color": "#2a3f5f"
          },
          "geo": {
           "bgcolor": "white",
           "lakecolor": "white",
           "landcolor": "#E5ECF6",
           "showlakes": true,
           "showland": true,
           "subunitcolor": "white"
          },
          "hoverlabel": {
           "align": "left"
          },
          "hovermode": "closest",
          "mapbox": {
           "style": "light"
          },
          "paper_bgcolor": "white",
          "plot_bgcolor": "#E5ECF6",
          "polar": {
           "angularaxis": {
            "gridcolor": "white",
            "linecolor": "white",
            "ticks": ""
           },
           "bgcolor": "#E5ECF6",
           "radialaxis": {
            "gridcolor": "white",
            "linecolor": "white",
            "ticks": ""
           }
          },
          "scene": {
           "xaxis": {
            "backgroundcolor": "#E5ECF6",
            "gridcolor": "white",
            "gridwidth": 2,
            "linecolor": "white",
            "showbackground": true,
            "ticks": "",
            "zerolinecolor": "white"
           },
           "yaxis": {
            "backgroundcolor": "#E5ECF6",
            "gridcolor": "white",
            "gridwidth": 2,
            "linecolor": "white",
            "showbackground": true,
            "ticks": "",
            "zerolinecolor": "white"
           },
           "zaxis": {
            "backgroundcolor": "#E5ECF6",
            "gridcolor": "white",
            "gridwidth": 2,
            "linecolor": "white",
            "showbackground": true,
            "ticks": "",
            "zerolinecolor": "white"
           }
          },
          "shapedefaults": {
           "line": {
            "color": "#2a3f5f"
           }
          },
          "ternary": {
           "aaxis": {
            "gridcolor": "white",
            "linecolor": "white",
            "ticks": ""
           },
           "baxis": {
            "gridcolor": "white",
            "linecolor": "white",
            "ticks": ""
           },
           "bgcolor": "#E5ECF6",
           "caxis": {
            "gridcolor": "white",
            "linecolor": "white",
            "ticks": ""
           }
          },
          "title": {
           "x": 0.05
          },
          "xaxis": {
           "automargin": true,
           "gridcolor": "white",
           "linecolor": "white",
           "ticks": "",
           "title": {
            "standoff": 15
           },
           "zerolinecolor": "white",
           "zerolinewidth": 2
          },
          "yaxis": {
           "automargin": true,
           "gridcolor": "white",
           "linecolor": "white",
           "ticks": "",
           "title": {
            "standoff": 15
           },
           "zerolinecolor": "white",
           "zerolinewidth": 2
          }
         }
        },
        "title": {
         "text": "Multi-Modal Voice Verification",
         "x": 0.5,
         "xanchor": "center",
         "y": 0.9,
         "yanchor": "top"
        },
        "xaxis": {
         "title": {
          "text": "False Positive Rate"
         }
        },
        "yaxis": {
         "title": {
          "text": "True Positive Rate"
         }
        }
       }
      },
      "text/html": [
       "<div>\n",
       "        \n",
       "        \n",
       "            <div id=\"676a1d1e-bd62-42de-a9c2-9672405bd0f1\" class=\"plotly-graph-div\" style=\"height:525px; width:100%;\"></div>\n",
       "            <script type=\"text/javascript\">\n",
       "                require([\"plotly\"], function(Plotly) {\n",
       "                    window.PLOTLYENV=window.PLOTLYENV || {};\n",
       "                    \n",
       "                if (document.getElementById(\"676a1d1e-bd62-42de-a9c2-9672405bd0f1\")) {\n",
       "                    Plotly.newPlot(\n",
       "                        '676a1d1e-bd62-42de-a9c2-9672405bd0f1',\n",
       "                        [{\"name\": \"Resemblyzer\", \"type\": \"scatter\", \"x\": [0.0, 0.0, 0.0, 0.0, 0.0, 0.0, 0.0, 0.0, 0.0, 0.0, 0.0, 0.0, 0.0, 0.0, 0.0, 0.0, 0.0, 0.0, 0.0, 0.0, 0.0, 0.0, 0.0, 0.0, 0.0, 0.0, 0.0, 0.0, 0.0, 0.0, 0.0, 0.0, 0.0, 0.0, 0.0, 0.0, 0.0, 0.0, 0.0, 0.0, 0.0, 0.0, 0.0, 0.0, 0.0, 0.0, 0.0, 0.0, 0.0, 0.0, 0.0, 0.0, 0.0, 0.008928571428571397, 0.017857142857142905, 0.0267857142857143, 0.0357142857142857, 0.0357142857142857, 0.0357142857142857, 0.0535714285714286, 0.0535714285714286, 0.0714285714285714, 0.0714285714285714, 0.0892857142857143, 0.1071428571428571, 0.125, 0.1428571428571429, 0.1785714285714286, 0.2142857142857143, 0.2678571428571429, 0.2857142857142857, 0.3035714285714286, 0.3571428571428571, 0.4107142857142857, 0.4553571428571429, 0.4910714285714286, 0.5357142857142857, 0.5625, 0.6160714285714286, 0.6517857142857143, 0.6964285714285714, 0.7053571428571428, 0.7232142857142857, 0.7767857142857143, 0.7857142857142857, 0.7946428571428572, 0.8125, 0.8392857142857143, 0.8571428571428572, 0.8839285714285714, 0.9017857142857143, 0.9196428571428571, 0.9553571428571429, 0.9553571428571429, 0.9732142857142857, 0.9732142857142857, 0.9821428571428571, 0.9821428571428571, 0.9821428571428571, 0.9910714285714286, 1.0], \"y\": [0.125, 0.125, 0.125, 0.125, 0.125, 0.125, 0.125, 0.125, 0.125, 0.125, 0.125, 0.125, 0.125, 0.125, 0.125, 0.125, 0.125, 0.125, 0.125, 0.125, 0.125, 0.125, 0.125, 0.125, 0.125, 0.125, 0.25, 0.25, 0.25, 0.25, 0.25, 0.375, 0.375, 0.625, 0.625, 0.75, 0.75, 0.75, 0.75, 0.75, 0.75, 0.75, 0.75, 0.75, 0.75, 0.75, 0.75, 0.75, 0.75, 0.75, 0.75, 0.875, 0.875, 0.875, 0.875, 0.875, 0.875, 0.875, 0.875, 0.875, 1.0, 1.0, 1.0, 1.0, 1.0, 1.0, 1.0, 1.0, 1.0, 1.0, 1.0, 1.0, 1.0, 1.0, 1.0, 1.0, 1.0, 1.0, 1.0, 1.0, 1.0, 1.0, 1.0, 1.0, 1.0, 1.0, 1.0, 1.0, 1.0, 1.0, 1.0, 1.0, 1.0, 1.0, 1.0, 1.0, 1.0, 1.0, 1.0, 1.0, 1.0]}, {\"name\": \"MFCC\", \"type\": \"scatter\", \"x\": [0.0, 0.0, 0.0, 0.0, 0.0, 0.0, 0.008928571428571397, 0.008928571428571397, 0.008928571428571397, 0.008928571428571397, 0.008928571428571397, 0.008928571428571397, 0.008928571428571397, 0.008928571428571397, 0.0267857142857143, 0.0267857142857143, 0.0267857142857143, 0.044642857142857095, 0.0803571428571429, 0.0892857142857143, 0.0892857142857143, 0.1160714285714286, 0.1339285714285714, 0.1607142857142857, 0.1607142857142857, 0.1696428571428571, 0.1696428571428571, 0.1696428571428571, 0.1875, 0.2232142857142857, 0.2321428571428571, 0.25, 0.2589285714285714, 0.2767857142857143, 0.2767857142857143, 0.2946428571428571, 0.2946428571428571, 0.3125, 0.3125, 0.3303571428571429, 0.3571428571428571, 0.3928571428571429, 0.4107142857142857, 0.4464285714285714, 0.4732142857142857, 0.4821428571428571, 0.4821428571428571, 0.5267857142857143, 0.5267857142857143, 0.5803571428571428, 0.5982142857142857, 0.6160714285714286, 0.625, 0.6517857142857143, 0.6607142857142857, 0.6607142857142857, 0.6785714285714286, 0.6875, 0.6964285714285714, 0.7232142857142857, 0.7321428571428572, 0.7410714285714286, 0.7589285714285714, 0.7678571428571428, 0.8035714285714286, 0.8214285714285714, 0.8303571428571428, 0.8392857142857143, 0.8571428571428572, 0.8571428571428572, 0.8571428571428572, 0.8571428571428572, 0.8839285714285714, 0.8928571428571429, 0.8928571428571429, 0.9107142857142857, 0.9196428571428571, 0.9196428571428571, 0.9196428571428571, 0.9196428571428571, 0.9196428571428571, 0.9285714285714286, 0.9285714285714286, 0.9285714285714286, 0.9375, 0.9375, 0.9375, 0.9375, 0.9464285714285714, 0.9553571428571429, 0.9553571428571429, 0.9642857142857143, 0.9732142857142857, 0.9732142857142857, 0.9732142857142857, 0.9821428571428571, 0.9821428571428571, 0.9821428571428571, 0.9910714285714286, 0.9910714285714286, 0.9910714285714286], \"y\": [0.125, 0.125, 0.125, 0.125, 0.125, 0.125, 0.125, 0.125, 0.125, 0.125, 0.125, 0.125, 0.125, 0.25, 0.375, 0.375, 0.375, 0.375, 0.5, 0.5, 0.5, 0.5, 0.5, 0.5, 0.5, 0.5, 0.625, 0.625, 0.625, 0.625, 0.625, 0.75, 0.75, 0.75, 0.75, 0.75, 0.75, 0.75, 0.75, 0.75, 0.75, 0.75, 0.75, 0.75, 0.75, 0.75, 0.75, 0.75, 0.75, 0.75, 0.875, 0.875, 0.875, 0.875, 0.875, 0.875, 0.875, 1.0, 1.0, 1.0, 1.0, 1.0, 1.0, 1.0, 1.0, 1.0, 1.0, 1.0, 1.0, 1.0, 1.0, 1.0, 1.0, 1.0, 1.0, 1.0, 1.0, 1.0, 1.0, 1.0, 1.0, 1.0, 1.0, 1.0, 1.0, 1.0, 1.0, 1.0, 1.0, 1.0, 1.0, 1.0, 1.0, 1.0, 1.0, 1.0, 1.0, 1.0, 1.0, 1.0, 1.0]}, {\"name\": \"Fusion\", \"type\": \"scatter\", \"x\": [0.0, 0.0, 0.0, 0.0, 0.0, 0.0, 0.0, 0.0, 0.0, 0.0, 0.0, 0.0, 0.0, 0.0, 0.0, 0.0, 0.0, 0.0, 0.0, 0.0, 0.0, 0.0, 0.0, 0.0, 0.0, 0.0, 0.0, 0.0, 0.0, 0.0, 0.0, 0.0, 0.0, 0.0, 0.0, 0.0, 0.008928571428571397, 0.017857142857142905, 0.0267857142857143, 0.0267857142857143, 0.0267857142857143, 0.0357142857142857, 0.044642857142857095, 0.044642857142857095, 0.0535714285714286, 0.0625, 0.0803571428571429, 0.0892857142857143, 0.1517857142857143, 0.1517857142857143, 0.1785714285714286, 0.1964285714285714, 0.2142857142857143, 0.2410714285714286, 0.2678571428571429, 0.2857142857142857, 0.3392857142857143, 0.375, 0.3839285714285714, 0.3928571428571429, 0.4285714285714286, 0.4642857142857143, 0.4821428571428571, 0.5178571428571428, 0.5357142857142857, 0.5535714285714286, 0.5535714285714286, 0.5625, 0.6160714285714286, 0.6517857142857143, 0.6517857142857143, 0.6607142857142857, 0.6785714285714286, 0.6875, 0.7142857142857143, 0.7410714285714286, 0.75, 0.7678571428571428, 0.8035714285714286, 0.8125, 0.8214285714285714, 0.8214285714285714, 0.8660714285714286, 0.8928571428571429, 0.8928571428571429, 0.9017857142857143, 0.9196428571428571, 0.9375, 0.9553571428571429, 0.9553571428571429, 0.9642857142857143, 0.9732142857142857, 0.9821428571428571, 0.9821428571428571, 0.9910714285714286, 0.9910714285714286, 0.9910714285714286, 0.9910714285714286, 0.9910714285714286, 0.9910714285714286, 1.0], \"y\": [0.125, 0.125, 0.125, 0.125, 0.125, 0.125, 0.125, 0.125, 0.125, 0.125, 0.125, 0.125, 0.125, 0.25, 0.375, 0.375, 0.5, 0.5, 0.5, 0.5, 0.5, 0.5, 0.75, 0.75, 0.75, 0.75, 0.75, 0.75, 0.75, 0.75, 0.75, 0.75, 0.75, 0.75, 0.875, 0.875, 0.875, 0.875, 0.875, 0.875, 0.875, 0.875, 0.875, 0.875, 0.875, 0.875, 0.875, 0.875, 0.875, 0.875, 0.875, 0.875, 0.875, 0.875, 0.875, 0.875, 0.875, 1.0, 1.0, 1.0, 1.0, 1.0, 1.0, 1.0, 1.0, 1.0, 1.0, 1.0, 1.0, 1.0, 1.0, 1.0, 1.0, 1.0, 1.0, 1.0, 1.0, 1.0, 1.0, 1.0, 1.0, 1.0, 1.0, 1.0, 1.0, 1.0, 1.0, 1.0, 1.0, 1.0, 1.0, 1.0, 1.0, 1.0, 1.0, 1.0, 1.0, 1.0, 1.0, 1.0, 1.0]}],\n",
       "                        {\"font\": {\"color\": \"#000000\", \"family\": \"Arial, monospace\", \"size\": 20}, \"template\": {\"data\": {\"bar\": [{\"error_x\": {\"color\": \"#2a3f5f\"}, \"error_y\": {\"color\": \"#2a3f5f\"}, \"marker\": {\"line\": {\"color\": \"#E5ECF6\", \"width\": 0.5}}, \"type\": \"bar\"}], \"barpolar\": [{\"marker\": {\"line\": {\"color\": \"#E5ECF6\", \"width\": 0.5}}, \"type\": \"barpolar\"}], \"carpet\": [{\"aaxis\": {\"endlinecolor\": \"#2a3f5f\", \"gridcolor\": \"white\", \"linecolor\": \"white\", \"minorgridcolor\": \"white\", \"startlinecolor\": \"#2a3f5f\"}, \"baxis\": {\"endlinecolor\": \"#2a3f5f\", \"gridcolor\": \"white\", \"linecolor\": \"white\", \"minorgridcolor\": \"white\", \"startlinecolor\": \"#2a3f5f\"}, \"type\": \"carpet\"}], \"choropleth\": [{\"colorbar\": {\"outlinewidth\": 0, \"ticks\": \"\"}, \"type\": \"choropleth\"}], \"contour\": [{\"colorbar\": {\"outlinewidth\": 0, \"ticks\": \"\"}, \"colorscale\": [[0.0, \"#0d0887\"], [0.1111111111111111, \"#46039f\"], [0.2222222222222222, \"#7201a8\"], [0.3333333333333333, \"#9c179e\"], [0.4444444444444444, \"#bd3786\"], [0.5555555555555556, \"#d8576b\"], [0.6666666666666666, \"#ed7953\"], [0.7777777777777778, \"#fb9f3a\"], [0.8888888888888888, \"#fdca26\"], [1.0, \"#f0f921\"]], \"type\": \"contour\"}], \"contourcarpet\": [{\"colorbar\": {\"outlinewidth\": 0, \"ticks\": \"\"}, \"type\": \"contourcarpet\"}], \"heatmap\": [{\"colorbar\": {\"outlinewidth\": 0, \"ticks\": \"\"}, \"colorscale\": [[0.0, \"#0d0887\"], [0.1111111111111111, \"#46039f\"], [0.2222222222222222, \"#7201a8\"], [0.3333333333333333, \"#9c179e\"], [0.4444444444444444, \"#bd3786\"], [0.5555555555555556, \"#d8576b\"], [0.6666666666666666, \"#ed7953\"], [0.7777777777777778, \"#fb9f3a\"], [0.8888888888888888, \"#fdca26\"], [1.0, \"#f0f921\"]], \"type\": \"heatmap\"}], \"heatmapgl\": [{\"colorbar\": {\"outlinewidth\": 0, \"ticks\": \"\"}, \"colorscale\": [[0.0, \"#0d0887\"], [0.1111111111111111, \"#46039f\"], [0.2222222222222222, \"#7201a8\"], [0.3333333333333333, \"#9c179e\"], [0.4444444444444444, \"#bd3786\"], [0.5555555555555556, \"#d8576b\"], [0.6666666666666666, \"#ed7953\"], [0.7777777777777778, \"#fb9f3a\"], [0.8888888888888888, \"#fdca26\"], [1.0, \"#f0f921\"]], \"type\": \"heatmapgl\"}], \"histogram\": [{\"marker\": {\"colorbar\": {\"outlinewidth\": 0, \"ticks\": \"\"}}, \"type\": \"histogram\"}], \"histogram2d\": [{\"colorbar\": {\"outlinewidth\": 0, \"ticks\": \"\"}, \"colorscale\": [[0.0, \"#0d0887\"], [0.1111111111111111, \"#46039f\"], [0.2222222222222222, \"#7201a8\"], [0.3333333333333333, \"#9c179e\"], [0.4444444444444444, \"#bd3786\"], [0.5555555555555556, \"#d8576b\"], [0.6666666666666666, \"#ed7953\"], [0.7777777777777778, \"#fb9f3a\"], [0.8888888888888888, \"#fdca26\"], [1.0, \"#f0f921\"]], \"type\": \"histogram2d\"}], \"histogram2dcontour\": [{\"colorbar\": {\"outlinewidth\": 0, \"ticks\": \"\"}, \"colorscale\": [[0.0, \"#0d0887\"], [0.1111111111111111, \"#46039f\"], [0.2222222222222222, \"#7201a8\"], [0.3333333333333333, \"#9c179e\"], [0.4444444444444444, \"#bd3786\"], [0.5555555555555556, \"#d8576b\"], [0.6666666666666666, \"#ed7953\"], [0.7777777777777778, \"#fb9f3a\"], [0.8888888888888888, \"#fdca26\"], [1.0, \"#f0f921\"]], \"type\": \"histogram2dcontour\"}], \"mesh3d\": [{\"colorbar\": {\"outlinewidth\": 0, \"ticks\": \"\"}, \"type\": \"mesh3d\"}], \"parcoords\": [{\"line\": {\"colorbar\": {\"outlinewidth\": 0, \"ticks\": \"\"}}, \"type\": \"parcoords\"}], \"pie\": [{\"automargin\": true, \"type\": \"pie\"}], \"scatter\": [{\"marker\": {\"colorbar\": {\"outlinewidth\": 0, \"ticks\": \"\"}}, \"type\": \"scatter\"}], \"scatter3d\": [{\"line\": {\"colorbar\": {\"outlinewidth\": 0, \"ticks\": \"\"}}, \"marker\": {\"colorbar\": {\"outlinewidth\": 0, \"ticks\": \"\"}}, \"type\": \"scatter3d\"}], \"scattercarpet\": [{\"marker\": {\"colorbar\": {\"outlinewidth\": 0, \"ticks\": \"\"}}, \"type\": \"scattercarpet\"}], \"scattergeo\": [{\"marker\": {\"colorbar\": {\"outlinewidth\": 0, \"ticks\": \"\"}}, \"type\": \"scattergeo\"}], \"scattergl\": [{\"marker\": {\"colorbar\": {\"outlinewidth\": 0, \"ticks\": \"\"}}, \"type\": \"scattergl\"}], \"scattermapbox\": [{\"marker\": {\"colorbar\": {\"outlinewidth\": 0, \"ticks\": \"\"}}, \"type\": \"scattermapbox\"}], \"scatterpolar\": [{\"marker\": {\"colorbar\": {\"outlinewidth\": 0, \"ticks\": \"\"}}, \"type\": \"scatterpolar\"}], \"scatterpolargl\": [{\"marker\": {\"colorbar\": {\"outlinewidth\": 0, \"ticks\": \"\"}}, \"type\": \"scatterpolargl\"}], \"scatterternary\": [{\"marker\": {\"colorbar\": {\"outlinewidth\": 0, \"ticks\": \"\"}}, \"type\": \"scatterternary\"}], \"surface\": [{\"colorbar\": {\"outlinewidth\": 0, \"ticks\": \"\"}, \"colorscale\": [[0.0, \"#0d0887\"], [0.1111111111111111, \"#46039f\"], [0.2222222222222222, \"#7201a8\"], [0.3333333333333333, \"#9c179e\"], [0.4444444444444444, \"#bd3786\"], [0.5555555555555556, \"#d8576b\"], [0.6666666666666666, \"#ed7953\"], [0.7777777777777778, \"#fb9f3a\"], [0.8888888888888888, \"#fdca26\"], [1.0, \"#f0f921\"]], \"type\": \"surface\"}], \"table\": [{\"cells\": {\"fill\": {\"color\": \"#EBF0F8\"}, \"line\": {\"color\": \"white\"}}, \"header\": {\"fill\": {\"color\": \"#C8D4E3\"}, \"line\": {\"color\": \"white\"}}, \"type\": \"table\"}]}, \"layout\": {\"annotationdefaults\": {\"arrowcolor\": \"#2a3f5f\", \"arrowhead\": 0, \"arrowwidth\": 1}, \"coloraxis\": {\"colorbar\": {\"outlinewidth\": 0, \"ticks\": \"\"}}, \"colorscale\": {\"diverging\": [[0, \"#8e0152\"], [0.1, \"#c51b7d\"], [0.2, \"#de77ae\"], [0.3, \"#f1b6da\"], [0.4, \"#fde0ef\"], [0.5, \"#f7f7f7\"], [0.6, \"#e6f5d0\"], [0.7, \"#b8e186\"], [0.8, \"#7fbc41\"], [0.9, \"#4d9221\"], [1, \"#276419\"]], \"sequential\": [[0.0, \"#0d0887\"], [0.1111111111111111, \"#46039f\"], [0.2222222222222222, \"#7201a8\"], [0.3333333333333333, \"#9c179e\"], [0.4444444444444444, \"#bd3786\"], [0.5555555555555556, \"#d8576b\"], [0.6666666666666666, \"#ed7953\"], [0.7777777777777778, \"#fb9f3a\"], [0.8888888888888888, \"#fdca26\"], [1.0, \"#f0f921\"]], \"sequentialminus\": [[0.0, \"#0d0887\"], [0.1111111111111111, \"#46039f\"], [0.2222222222222222, \"#7201a8\"], [0.3333333333333333, \"#9c179e\"], [0.4444444444444444, \"#bd3786\"], [0.5555555555555556, \"#d8576b\"], [0.6666666666666666, \"#ed7953\"], [0.7777777777777778, \"#fb9f3a\"], [0.8888888888888888, \"#fdca26\"], [1.0, \"#f0f921\"]]}, \"colorway\": [\"#636efa\", \"#EF553B\", \"#00cc96\", \"#ab63fa\", \"#FFA15A\", \"#19d3f3\", \"#FF6692\", \"#B6E880\", \"#FF97FF\", \"#FECB52\"], \"font\": {\"color\": \"#2a3f5f\"}, \"geo\": {\"bgcolor\": \"white\", \"lakecolor\": \"white\", \"landcolor\": \"#E5ECF6\", \"showlakes\": true, \"showland\": true, \"subunitcolor\": \"white\"}, \"hoverlabel\": {\"align\": \"left\"}, \"hovermode\": \"closest\", \"mapbox\": {\"style\": \"light\"}, \"paper_bgcolor\": \"white\", \"plot_bgcolor\": \"#E5ECF6\", \"polar\": {\"angularaxis\": {\"gridcolor\": \"white\", \"linecolor\": \"white\", \"ticks\": \"\"}, \"bgcolor\": \"#E5ECF6\", \"radialaxis\": {\"gridcolor\": \"white\", \"linecolor\": \"white\", \"ticks\": \"\"}}, \"scene\": {\"xaxis\": {\"backgroundcolor\": \"#E5ECF6\", \"gridcolor\": \"white\", \"gridwidth\": 2, \"linecolor\": \"white\", \"showbackground\": true, \"ticks\": \"\", \"zerolinecolor\": \"white\"}, \"yaxis\": {\"backgroundcolor\": \"#E5ECF6\", \"gridcolor\": \"white\", \"gridwidth\": 2, \"linecolor\": \"white\", \"showbackground\": true, \"ticks\": \"\", \"zerolinecolor\": \"white\"}, \"zaxis\": {\"backgroundcolor\": \"#E5ECF6\", \"gridcolor\": \"white\", \"gridwidth\": 2, \"linecolor\": \"white\", \"showbackground\": true, \"ticks\": \"\", \"zerolinecolor\": \"white\"}}, \"shapedefaults\": {\"line\": {\"color\": \"#2a3f5f\"}}, \"ternary\": {\"aaxis\": {\"gridcolor\": \"white\", \"linecolor\": \"white\", \"ticks\": \"\"}, \"baxis\": {\"gridcolor\": \"white\", \"linecolor\": \"white\", \"ticks\": \"\"}, \"bgcolor\": \"#E5ECF6\", \"caxis\": {\"gridcolor\": \"white\", \"linecolor\": \"white\", \"ticks\": \"\"}}, \"title\": {\"x\": 0.05}, \"xaxis\": {\"automargin\": true, \"gridcolor\": \"white\", \"linecolor\": \"white\", \"ticks\": \"\", \"title\": {\"standoff\": 15}, \"zerolinecolor\": \"white\", \"zerolinewidth\": 2}, \"yaxis\": {\"automargin\": true, \"gridcolor\": \"white\", \"linecolor\": \"white\", \"ticks\": \"\", \"title\": {\"standoff\": 15}, \"zerolinecolor\": \"white\", \"zerolinewidth\": 2}}}, \"title\": {\"text\": \"Multi-Modal Voice Verification\", \"x\": 0.5, \"xanchor\": \"center\", \"y\": 0.9, \"yanchor\": \"top\"}, \"xaxis\": {\"title\": {\"text\": \"False Positive Rate\"}}, \"yaxis\": {\"title\": {\"text\": \"True Positive Rate\"}}},\n",
       "                        {\"responsive\": true}\n",
       "                    ).then(function(){\n",
       "                            \n",
       "var gd = document.getElementById('676a1d1e-bd62-42de-a9c2-9672405bd0f1');\n",
       "var x = new MutationObserver(function (mutations, observer) {{\n",
       "        var display = window.getComputedStyle(gd).display;\n",
       "        if (!display || display === 'none') {{\n",
       "            console.log([gd, 'removed!']);\n",
       "            Plotly.purge(gd);\n",
       "            observer.disconnect();\n",
       "        }}\n",
       "}});\n",
       "\n",
       "// Listen for the removal of the full notebook cells\n",
       "var notebookContainer = gd.closest('#notebook-container');\n",
       "if (notebookContainer) {{\n",
       "    x.observe(notebookContainer, {childList: true});\n",
       "}}\n",
       "\n",
       "// Listen for the clearing of the current output cell\n",
       "var outputEl = gd.closest('.output');\n",
       "if (outputEl) {{\n",
       "    x.observe(outputEl, {childList: true});\n",
       "}}\n",
       "\n",
       "                        })\n",
       "                };\n",
       "                });\n",
       "            </script>\n",
       "        </div>"
      ]
     },
     "metadata": {},
     "output_type": "display_data"
    }
   ],
   "source": [
    "import plotly\n",
    "import plotly.graph_objects as go\n",
    "\n",
    "fig = go.Figure()\n",
    "\n",
    "fig.add_trace(go.Scatter(\n",
    "    x = embed_FPR, \n",
    "    y = embed_TPR,\n",
    "    name=\"Resemblyzer\"       # this sets its legend entry\n",
    "))\n",
    "\n",
    "fig.add_trace(go.Scatter(\n",
    "    x = mfcc_FPR, \n",
    "    y = mfcc_TPR,\n",
    "    name=\"MFCC\"\n",
    "))\n",
    "\n",
    "fig.add_trace(go.Scatter(\n",
    "    x = fusion_FPR, \n",
    "    y = fusion_TPR,\n",
    "    name=\"Fusion\"\n",
    "))\n",
    "\n",
    "fig.update_layout(\n",
    "    \n",
    "    title={\n",
    "        'text': \"Multi-Modal Voice Verification\",\n",
    "        'y':0.9,\n",
    "        'x':0.5,\n",
    "        'xanchor': 'center',\n",
    "        'yanchor': 'top'},\n",
    "\n",
    "    xaxis_title=\"False Positive Rate\",\n",
    "    yaxis_title=\"True Positive Rate\",\n",
    "    \n",
    "    font=dict(\n",
    "        family=\"Arial, monospace\",\n",
    "        size=20,\n",
    "        color=\"#000000\"\n",
    "    )\n",
    ")\n",
    "\n",
    "fig.show()"
   ]
  },
  {
   "cell_type": "code",
   "execution_count": 104,
   "metadata": {},
   "outputs": [
    {
     "name": "stdout",
     "output_type": "stream",
     "text": [
      "MFCC accuracy = 0.9417\n",
      "Resemblyzer accuracy = 0.9917\n",
      "Fusion accuracy = 0.9917\n"
     ]
    }
   ],
   "source": [
    "print(f'MFCC accuracy = {np.max(mfcc_accuracy):0.4f}')\n",
    "print(f'Resemblyzer accuracy = {np.max(embed_accuracy):0.4f}')\n",
    "print(f'Fusion accuracy = {np.max(fusion_accuracy):0.4f}')"
   ]
  },
  {
   "cell_type": "markdown",
   "metadata": {},
   "source": [
    "# Process Time"
   ]
  },
  {
   "cell_type": "code",
   "execution_count": 105,
   "metadata": {},
   "outputs": [
    {
     "name": "stdout",
     "output_type": "stream",
     "text": [
      "MFCC Process Time= 2.7486698627471924\n"
     ]
    }
   ],
   "source": [
    "import time\n",
    "\n",
    "y1, sr1 = librosa.load(wave_list[1])\n",
    "x = librosa.feature.mfcc(y1,sr1)\n",
    "\n",
    "start = time.time()\n",
    "\n",
    "y2, sr2 = librosa.load(wave_list[2])\n",
    "y = librosa.feature.mfcc(y2,sr2) \n",
    "dist, cost, acc_cost, path = dtw(x.T, y.T, dist=lambda x, y: norm(x - y, ord=2))\n",
    "\n",
    "print(\"MFCC Process Time= \" + str(time.time() - start))"
   ]
  },
  {
   "cell_type": "code",
   "execution_count": 106,
   "metadata": {},
   "outputs": [
    {
     "name": "stdout",
     "output_type": "stream",
     "text": [
      "Loaded the voice encoder model on cuda in 0.02 seconds.\n",
      "Resemblyzer Process Time= 0.4197049140930176\n"
     ]
    }
   ],
   "source": [
    "encoder = VoiceEncoder()\n",
    "import torch\n",
    "# # device config\n",
    "# device = torch.device('cuda' if torch.cuda.is_available() else 'cpu')\n",
    "\n",
    "fpath1 = Path(wave_list[1])\n",
    "wav1 = preprocess_wav(fpath1)\n",
    "embed1 = encoder.embed_utterance(wav1)\n",
    "\n",
    "start = time.time()\n",
    "\n",
    "fpath2 = Path(wave_list[2])\n",
    "wav2 = preprocess_wav(fpath2)\n",
    "embed2 = encoder.embed_utterance(wav2)\n",
    "\n",
    "dist = f_dist(embed1,embed2)\n",
    "print(\"Resemblyzer Process Time= \" + str(time.time() - start))"
   ]
  },
  {
   "cell_type": "markdown",
   "metadata": {},
   "source": [
    "## REFERENCES"
   ]
  },
  {
   "cell_type": "markdown",
   "metadata": {},
   "source": [
    "https://www.geeksforgeeks.org/create-a-pandas-dataframe-from-lists/"
   ]
  },
  {
   "cell_type": "code",
   "execution_count": null,
   "metadata": {},
   "outputs": [],
   "source": []
  }
 ],
 "metadata": {
  "kernelspec": {
   "display_name": "Python 3",
   "language": "python",
   "name": "python3"
  },
  "language_info": {
   "codemirror_mode": {
    "name": "ipython",
    "version": 3
   },
   "file_extension": ".py",
   "mimetype": "text/x-python",
   "name": "python",
   "nbconvert_exporter": "python",
   "pygments_lexer": "ipython3",
   "version": "3.6.9"
  }
 },
 "nbformat": 4,
 "nbformat_minor": 4
}
